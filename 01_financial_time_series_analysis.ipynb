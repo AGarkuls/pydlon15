{
 "metadata": {
  "celltoolbar": "Slideshow",
  "name": "",
  "signature": "sha256:01ba2387cbd4ad4952eaa0dad37dbbe14c06d7f63037c6180ba3d802fdaad735"
 },
 "nbformat": 3,
 "nbformat_minor": 0,
 "worksheets": [
  {
   "cells": [
    {
     "cell_type": "markdown",
     "metadata": {
      "slideshow": {
       "slide_type": "slide"
      }
     },
     "source": [
      "<img src=\"http://hilpisch.com/tpq_logo.png\" alt=\"The Python Quants\" width=\"35%\" align=\"right\" border=\"0\"><br>"
     ]
    },
    {
     "cell_type": "heading",
     "level": 1,
     "metadata": {},
     "source": [
      "Financial Time Series Analysis"
     ]
    },
    {
     "cell_type": "markdown",
     "metadata": {},
     "source": [
      "**PyData London 2015**"
     ]
    },
    {
     "cell_type": "markdown",
     "metadata": {},
     "source": [
      "Yves Hilpisch\n",
      "\n",
      "<a href='mailto:team@tpq.io'>team@tpq.io</a> | <a href='http://tpq.io'>http://tpq.io</a>\n",
      "\n",
      "The Python Quants GmbH"
     ]
    },
    {
     "cell_type": "heading",
     "level": 2,
     "metadata": {
      "slideshow": {
       "slide_type": "slide"
      }
     },
     "source": [
      "TsTables &ndash; High Performance Times Series Management"
     ]
    },
    {
     "cell_type": "markdown",
     "metadata": {
      "slideshow": {
       "slide_type": "subslide"
      }
     },
     "source": [
      "**TsTables** is a Python library by Andy Fiedler built on top of the popular ``PyTables`` HDF5 database library. It is meant to handle large amounts of **high frequency time series data** in **append once, retrieve many times** scenarios (cf. [Gihub page](https://github.com/afiedler/tstables)). The focus lies on retrieving chunks of data from large data sets as quickly as possible."
     ]
    },
    {
     "cell_type": "code",
     "collapsed": false,
     "input": [
      "import numpy as np\n",
      "import pandas as pd\n",
      "import tables as tb\n",
      "import tstables as tstb\n",
      "import random\n",
      "from time import time\n",
      "from datetime import datetime \n",
      "%matplotlib inline\n",
      "import seaborn as sns\n",
      "sns.set()"
     ],
     "language": "python",
     "metadata": {
      "slideshow": {
       "slide_type": "subslide"
      }
     },
     "outputs": []
    },
    {
     "cell_type": "heading",
     "level": 3,
     "metadata": {
      "slideshow": {
       "slide_type": "subslide"
      }
     },
     "source": [
      "Sample Time Series Data"
     ]
    },
    {
     "cell_type": "markdown",
     "metadata": {},
     "source": [
      "Let us generate a **decent amount of sample data points**."
     ]
    },
    {
     "cell_type": "code",
     "collapsed": false,
     "input": [
      "no = 10000000\n",
      "co = 3\n",
      "dt = 1. / (12 * 30 * 24 * 60)\n",
      "vol = 0.2"
     ],
     "language": "python",
     "metadata": {},
     "outputs": []
    },
    {
     "cell_type": "markdown",
     "metadata": {
      "slideshow": {
       "slide_type": "subslide"
      }
     },
     "source": [
      "We generate **one second intervals** of data."
     ]
    },
    {
     "cell_type": "code",
     "collapsed": false,
     "input": [
      "dr = pd.date_range('2015-1-1', periods=no, freq='1s')"
     ],
     "language": "python",
     "metadata": {},
     "outputs": []
    },
    {
     "cell_type": "code",
     "collapsed": false,
     "input": [
      "dr"
     ],
     "language": "python",
     "metadata": {},
     "outputs": []
    },
    {
     "cell_type": "markdown",
     "metadata": {
      "slideshow": {
       "slide_type": "subslide"
      }
     },
     "source": [
      "**In memory** generation is quite quick."
     ]
    },
    {
     "cell_type": "code",
     "collapsed": false,
     "input": [
      "%%time\n",
      "da = 100 * np.exp(np.cumsum(-0.5 * vol ** 2 * dt +\n",
      "        vol * np.sqrt(dt) * np.random.standard_normal((no, co)), axis=0))\n",
      "da[0] = 100"
     ],
     "language": "python",
     "metadata": {},
     "outputs": []
    },
    {
     "cell_type": "code",
     "collapsed": false,
     "input": [
      "df = pd.DataFrame(da, index=dr, columns=['ts1', 'ts2', 'ts3'])"
     ],
     "language": "python",
     "metadata": {},
     "outputs": []
    },
    {
     "cell_type": "code",
     "collapsed": false,
     "input": [
      "df.count()"
     ],
     "language": "python",
     "metadata": {},
     "outputs": []
    },
    {
     "cell_type": "markdown",
     "metadata": {
      "slideshow": {
       "slide_type": "subslide"
      }
     },
     "source": [
      "The **starting values** of the three time series."
     ]
    },
    {
     "cell_type": "code",
     "collapsed": false,
     "input": [
      "df.head()"
     ],
     "language": "python",
     "metadata": {},
     "outputs": []
    },
    {
     "cell_type": "markdown",
     "metadata": {
      "slideshow": {
       "slide_type": "subslide"
      }
     },
     "source": [
      "And a **plot** of the time series data (every 100000th point)."
     ]
    },
    {
     "cell_type": "code",
     "collapsed": false,
     "input": [
      "df[::200000].plot()"
     ],
     "language": "python",
     "metadata": {
      "slideshow": {
       "slide_type": "-"
      }
     },
     "outputs": []
    },
    {
     "cell_type": "heading",
     "level": 3,
     "metadata": {
      "slideshow": {
       "slide_type": "subslide"
      }
     },
     "source": [
      "Storage and Retrieval with TsTables"
     ]
    },
    {
     "cell_type": "markdown",
     "metadata": {},
     "source": [
      "To store the time series data in a **PyTables table** we first define the **table structure**."
     ]
    },
    {
     "cell_type": "code",
     "collapsed": false,
     "input": [
      "class TS(tb.IsDescription):\n",
      "    timestamp = tb.Int64Col(pos=0)\n",
      "    ts1 = tb.Float64Col(pos=1)\n",
      "    ts2 = tb.Float64Col(pos=2)\n",
      "    ts3 = tb.Float64Col(pos=3)"
     ],
     "language": "python",
     "metadata": {},
     "outputs": []
    },
    {
     "cell_type": "markdown",
     "metadata": {
      "slideshow": {
       "slide_type": "subslide"
      }
     },
     "source": [
      "Second, open a database file and **create the table object**."
     ]
    },
    {
     "cell_type": "code",
     "collapsed": false,
     "input": [
      "h5 = tb.open_file('ts.h5','w')"
     ],
     "language": "python",
     "metadata": {},
     "outputs": []
    },
    {
     "cell_type": "markdown",
     "metadata": {
      "slideshow": {
       "slide_type": "subslide"
      }
     },
     "source": [
      "TsTables adds a new function **``create_ts``** to PyTables."
     ]
    },
    {
     "cell_type": "code",
     "collapsed": false,
     "input": [
      "ts = h5.create_ts('/','TS', TS)"
     ],
     "language": "python",
     "metadata": {},
     "outputs": []
    },
    {
     "cell_type": "markdown",
     "metadata": {
      "slideshow": {
       "slide_type": "subslide"
      }
     },
     "source": [
      "Third, we **append the time series data** to the table object."
     ]
    },
    {
     "cell_type": "code",
     "collapsed": false,
     "input": [
      "%time ts.append(df)"
     ],
     "language": "python",
     "metadata": {},
     "outputs": []
    },
    {
     "cell_type": "code",
     "collapsed": false,
     "input": [
      "ls -n *.h5"
     ],
     "language": "python",
     "metadata": {},
     "outputs": []
    },
    {
     "cell_type": "markdown",
     "metadata": {},
     "source": [
      "The **approach** of ``TsTables`` is to apply a **highly structured storage** hierarchy."
     ]
    },
    {
     "cell_type": "code",
     "collapsed": false,
     "input": [
      "a = str(h5)\n",
      "print a[:508]"
     ],
     "language": "python",
     "metadata": {},
     "outputs": []
    },
    {
     "cell_type": "markdown",
     "metadata": {
      "slideshow": {
       "slide_type": "subslide"
      }
     },
     "source": [
      "The strength of TsTables lies in retrieving **chunks of time series data** defined by a **start date and an end date** (which obviously is a typical case in finance, e.g. in backtesting strategies or risk management)."
     ]
    },
    {
     "cell_type": "code",
     "collapsed": false,
     "input": [
      "read_start_dt = datetime(2015, 2, 1, 0, 0)\n",
      "read_end_dt = datetime(2015, 2, 2, 0, 0)"
     ],
     "language": "python",
     "metadata": {},
     "outputs": []
    },
    {
     "cell_type": "markdown",
     "metadata": {
      "slideshow": {
       "slide_type": "subslide"
      }
     },
     "source": [
      "TsTables tries to make such an operation **as fast as possible**."
     ]
    },
    {
     "cell_type": "code",
     "collapsed": false,
     "input": [
      "%time rows = ts.read_range(read_start_dt, read_end_dt)"
     ],
     "language": "python",
     "metadata": {},
     "outputs": []
    },
    {
     "cell_type": "markdown",
     "metadata": {
      "slideshow": {
       "slide_type": "subslide"
      }
     },
     "source": [
      "Let us try it with **random intervals**."
     ]
    },
    {
     "cell_type": "code",
     "collapsed": false,
     "input": [
      "t0 = time()\n",
      "its = 100\n",
      "for _ in xrange(its):\n",
      "    day = random.randint(1, 27)\n",
      "    read_start_dt = datetime(2015, 2, day, 0, 0)\n",
      "    read_end_dt = datetime(2015, 2, day + 1, 0, 0)\n",
      "    rows = ts.read_range(read_start_dt, read_end_dt)\n",
      "t1 = time()"
     ],
     "language": "python",
     "metadata": {},
     "outputs": []
    },
    {
     "cell_type": "markdown",
     "metadata": {
      "slideshow": {
       "slide_type": "subslide"
      }
     },
     "source": [
      "The **results** are convincing."
     ]
    },
    {
     "cell_type": "code",
     "collapsed": false,
     "input": [
      "print \"time for %d random accesses    %5.3f seconds\" %(its, t1 - t0)\n",
      "print \"average time for random access  %5.3f seconds\" %((t1 - t0) / its)"
     ],
     "language": "python",
     "metadata": {},
     "outputs": []
    },
    {
     "cell_type": "markdown",
     "metadata": {
      "slideshow": {
       "slide_type": "subslide"
      }
     },
     "source": [
      "Conveniently, the **returned object is a pandas DataFrame**."
     ]
    },
    {
     "cell_type": "code",
     "collapsed": false,
     "input": [
      "rows.count()"
     ],
     "language": "python",
     "metadata": {},
     "outputs": []
    },
    {
     "cell_type": "code",
     "collapsed": false,
     "input": [
      "rows.head()"
     ],
     "language": "python",
     "metadata": {},
     "outputs": []
    },
    {
     "cell_type": "markdown",
     "metadata": {
      "slideshow": {
       "slide_type": "subslide"
      }
     },
     "source": [
      "A look at a **data sub-set**."
     ]
    },
    {
     "cell_type": "code",
     "collapsed": false,
     "input": [
      "rows[::500].plot()"
     ],
     "language": "python",
     "metadata": {},
     "outputs": []
    },
    {
     "cell_type": "code",
     "collapsed": false,
     "input": [
      "h5.close()"
     ],
     "language": "python",
     "metadata": {},
     "outputs": []
    },
    {
     "cell_type": "code",
     "collapsed": false,
     "input": [
      "!rm ts.h5"
     ],
     "language": "python",
     "metadata": {},
     "outputs": []
    },
    {
     "cell_type": "heading",
     "level": 2,
     "metadata": {
      "slideshow": {
       "slide_type": "slide"
      }
     },
     "source": [
      "bcolz &ndash; High Performance Columnar Data Store"
     ]
    },
    {
     "cell_type": "markdown",
     "metadata": {
      "slideshow": {
       "slide_type": "subslide"
      }
     },
     "source": [
      "`bcolz` is a **columnar data store** for fast data storage and retrieval with built-in **high performance compression**. It supports both **in-memory and out-of-memory** storage and operations. Cf. <a href=\"http://bcolz.blosc.org/\" target=\"_blank\">http://bcolz.blosc.org/</a>."
     ]
    },
    {
     "cell_type": "code",
     "collapsed": false,
     "input": [
      "import bcolz"
     ],
     "language": "python",
     "metadata": {},
     "outputs": []
    },
    {
     "cell_type": "heading",
     "level": 2,
     "metadata": {
      "slideshow": {
       "slide_type": "subslide"
      }
     },
     "source": [
      "ctable Example "
     ]
    },
    {
     "cell_type": "markdown",
     "metadata": {},
     "source": [
      "The first example is based on the ``ctable`` class for data in **table format**. The example data set is **100 MB** in size."
     ]
    },
    {
     "cell_type": "code",
     "collapsed": false,
     "input": [
      "N = 100000 * 100\n",
      "print N"
     ],
     "language": "python",
     "metadata": {},
     "outputs": []
    },
    {
     "cell_type": "heading",
     "level": 3,
     "metadata": {
      "slideshow": {
       "slide_type": "subslide"
      }
     },
     "source": [
      "In-Memory Storage"
     ]
    },
    {
     "cell_type": "markdown",
     "metadata": {},
     "source": [
      "We generate first an **in-memory object** using high compression. Since we work with integers, **good compression ratios** are to be expected. It takes about **24 sec** to generate the ``ctable`` object from a generator via the ``fromiter`` method."
     ]
    },
    {
     "cell_type": "code",
     "collapsed": false,
     "input": [
      "%%time\n",
      "ct = bcolz.fromiter(((i, i ** 2) for i in xrange(N)),\n",
      "                    dtype=\"i4, i8\",\n",
      "                    count=N,\n",
      "                    cparams=bcolz.cparams(clevel=9))"
     ],
     "language": "python",
     "metadata": {},
     "outputs": []
    },
    {
     "cell_type": "markdown",
     "metadata": {
      "slideshow": {
       "slide_type": "subslide"
      }
     },
     "source": [
      "The **in-memory size** is about **15 MB** only, which translates in to a **compression ratio of 7+**."
     ]
    },
    {
     "cell_type": "code",
     "collapsed": false,
     "input": [
      "ct"
     ],
     "language": "python",
     "metadata": {},
     "outputs": []
    },
    {
     "cell_type": "markdown",
     "metadata": {
      "slideshow": {
       "slide_type": "subslide"
      }
     },
     "source": [
      "You can now implement **fast numerical operations** on this data object (note that the output is a ``carray`` object)."
     ]
    },
    {
     "cell_type": "code",
     "collapsed": false,
     "input": [
      "%time ct.eval('f0 ** 2 + sqrt(f1)')"
     ],
     "language": "python",
     "metadata": {},
     "outputs": []
    },
    {
     "cell_type": "heading",
     "level": 3,
     "metadata": {
      "slideshow": {
       "slide_type": "subslide"
      }
     },
     "source": [
      "Disk-Based Storage"
     ]
    },
    {
     "cell_type": "markdown",
     "metadata": {},
     "source": [
      "The same tasks can be implemented with **disk-based storage**. To this end, only specify the **``rootdir`` parameter**. With about **30 sec** the generation takes a bit longer on disk. everything else (especially the object handling) remaining the same however."
     ]
    },
    {
     "cell_type": "code",
     "collapsed": false,
     "input": [
      "%%time\n",
      "ct = bcolz.fromiter(((i, i ** 2) for i in xrange(N)),\n",
      "                    dtype=\"i4, i8\",\n",
      "                    count=N, rootdir='ct',\n",
      "                    cparams=bcolz.cparams(clevel=9))"
     ],
     "language": "python",
     "metadata": {},
     "outputs": []
    },
    {
     "cell_type": "markdown",
     "metadata": {
      "slideshow": {
       "slide_type": "subslide"
      }
     },
     "source": [
      "Everything else (especially the object handling) **remains almost the same** however."
     ]
    },
    {
     "cell_type": "code",
     "collapsed": false,
     "input": [
      "ct"
     ],
     "language": "python",
     "metadata": {},
     "outputs": []
    },
    {
     "cell_type": "markdown",
     "metadata": {
      "slideshow": {
       "slide_type": "subslide"
      }
     },
     "source": [
      "The **numerical operations work in the same fashion** and hardly take longer due to native **multi threading and optimized caching**."
     ]
    },
    {
     "cell_type": "code",
     "collapsed": false,
     "input": [
      "%time ct.eval('f0 ** 2 + sqrt(f1)')"
     ],
     "language": "python",
     "metadata": {},
     "outputs": []
    },
    {
     "cell_type": "markdown",
     "metadata": {
      "slideshow": {
       "slide_type": "subslide"
      }
     },
     "source": [
      "Let us finally verify **system disk usage**."
     ]
    },
    {
     "cell_type": "code",
     "collapsed": false,
     "input": [
      "!ls ct"
     ],
     "language": "python",
     "metadata": {},
     "outputs": []
    },
    {
     "cell_type": "code",
     "collapsed": false,
     "input": [
      "!du -h ct\n",
      "# system disk usage"
     ],
     "language": "python",
     "metadata": {},
     "outputs": []
    },
    {
     "cell_type": "code",
     "collapsed": false,
     "input": [
      "!rm -r ct"
     ],
     "language": "python",
     "metadata": {},
     "outputs": []
    },
    {
     "cell_type": "heading",
     "level": 2,
     "metadata": {
      "slideshow": {
       "slide_type": "subslide"
      }
     },
     "source": [
      "carray Example"
     ]
    },
    {
     "cell_type": "markdown",
     "metadata": {},
     "source": [
      "This example is about **mid data** which does **not fit (in general) into memory** (without compression). "
     ]
    },
    {
     "cell_type": "code",
     "collapsed": false,
     "input": [
      "import numpy as np"
     ],
     "language": "python",
     "metadata": {},
     "outputs": []
    },
    {
     "cell_type": "markdown",
     "metadata": {
      "slideshow": {
       "slide_type": "subslide"
      }
     },
     "source": [
      "We generte as basis a NumPy ``ndarray`` object of size **32 MB**."
     ]
    },
    {
     "cell_type": "code",
     "collapsed": false,
     "input": [
      "n = 2000\n",
      "a = np.arange(n * n).reshape(n, n) \n",
      "a.nbytes"
     ],
     "language": "python",
     "metadata": {},
     "outputs": []
    },
    {
     "cell_type": "heading",
     "level": 3,
     "metadata": {
      "slideshow": {
       "slide_type": "subslide"
      }
     },
     "source": [
      "In-Memory Storage"
     ]
    },
    {
     "cell_type": "markdown",
     "metadata": {},
     "source": [
      "Let us first again work **in-memory**. Our ``carray`` object contains **400 versions** of the ``ndarray`` object. The in-memory generation of the object takes about **2.5 secs**."
     ]
    },
    {
     "cell_type": "code",
     "collapsed": false,
     "input": [
      "%%time\n",
      "it = 400\n",
      "ca = bcolz.carray(a, cparams=bcolz.cparams(clevel=9))\n",
      "for i in range(it):\n",
      "    ca.append(a)"
     ],
     "language": "python",
     "metadata": {},
     "outputs": []
    },
    {
     "cell_type": "markdown",
     "metadata": {
      "slideshow": {
       "slide_type": "subslide"
      }
     },
     "source": [
      "The ``carray`` object stores **12 GB** worth of data in less than **0.1 GB** of memory, for a compression ratio of more than  **130**."
     ]
    },
    {
     "cell_type": "code",
     "collapsed": false,
     "input": [
      "ca"
     ],
     "language": "python",
     "metadata": {},
     "outputs": []
    },
    {
     "cell_type": "markdown",
     "metadata": {
      "slideshow": {
       "slide_type": "subslide"
      }
     },
     "source": [
      "Let us implement the **evaluation of a numerical expression** on this data set. The syntax and handling are the same **as with NumPy ``ndarray`` objects**. "
     ]
    },
    {
     "cell_type": "code",
     "collapsed": false,
     "input": [
      "%time ca[:5000] ** 2 + np.sqrt(ca[10000:15000])"
     ],
     "language": "python",
     "metadata": {},
     "outputs": []
    },
    {
     "cell_type": "markdown",
     "metadata": {
      "slideshow": {
       "slide_type": "subslide"
      }
     },
     "source": [
      "Another approach is to use the **``eval`` function** of bcolz."
     ]
    },
    {
     "cell_type": "code",
     "collapsed": false,
     "input": [
      "x = ca[:10000]  # 10,000 rows as sub-set"
     ],
     "language": "python",
     "metadata": {},
     "outputs": []
    },
    {
     "cell_type": "code",
     "collapsed": false,
     "input": [
      "%time bcolz.eval('x ** 2 + sqrt(x)', cparams=bcolz.cparams(clevel=9))\n",
      "  # output carray object compressed"
     ],
     "language": "python",
     "metadata": {},
     "outputs": []
    },
    {
     "cell_type": "heading",
     "level": 3,
     "metadata": {
      "slideshow": {
       "slide_type": "subslide"
      }
     },
     "source": [
      "Disk-Based Storage"
     ]
    },
    {
     "cell_type": "markdown",
     "metadata": {},
     "source": [
      "**Disk-based storage** of multiple versions of the array object. We write the object **400 times** to disk in a **single ``carray`` object**. It takes only about **0.1 mins** to compress and store **12 GB** worth of data **on disk**."
     ]
    },
    {
     "cell_type": "code",
     "collapsed": false,
     "input": [
      "%%time\n",
      "it = 400\n",
      "ca = bcolz.carray(a, rootdir='ca',\n",
      "                 cparams=bcolz.cparams(clevel=9))\n",
      "for i in range(it):\n",
      "    ca.append(a)"
     ],
     "language": "python",
     "metadata": {},
     "outputs": []
    },
    {
     "cell_type": "markdown",
     "metadata": {
      "slideshow": {
       "slide_type": "subslide"
      }
     },
     "source": [
      "The **compression ratio** in this case is again **130+**."
     ]
    },
    {
     "cell_type": "code",
     "collapsed": false,
     "input": [
      "ca"
     ],
     "language": "python",
     "metadata": {},
     "outputs": []
    },
    {
     "cell_type": "markdown",
     "metadata": {
      "slideshow": {
       "slide_type": "subslide"
      }
     },
     "source": [
      "**Simple numerical operations** are easy to implement."
     ]
    },
    {
     "cell_type": "code",
     "collapsed": false,
     "input": [
      "%time np.sum(ca[:1000] + ca[4000:5000])"
     ],
     "language": "python",
     "metadata": {},
     "outputs": []
    },
    {
     "cell_type": "markdown",
     "metadata": {
      "slideshow": {
       "slide_type": "subslide"
      }
     },
     "source": [
      "Let us try the previous, **mathematically more demanding operation** &ndash; again with a sub-set of the data."
     ]
    },
    {
     "cell_type": "code",
     "collapsed": false,
     "input": [
      "x = ca[:10000]  # 10,000 rows as sub-set"
     ],
     "language": "python",
     "metadata": {},
     "outputs": []
    },
    {
     "cell_type": "markdown",
     "metadata": {
      "slideshow": {
       "slide_type": "subslide"
      }
     },
     "source": [
      "First, with an **in-memory ``carray`` results object**."
     ]
    },
    {
     "cell_type": "code",
     "collapsed": false,
     "input": [
      "%time bcolz.eval('x ** 2 + sqrt(x)', cparams=bcolz.cparams(9))"
     ],
     "language": "python",
     "metadata": {},
     "outputs": []
    },
    {
     "cell_type": "markdown",
     "metadata": {
      "slideshow": {
       "slide_type": "subslide"
      }
     },
     "source": [
      "Second, with an **on-disk results object**. The time difference is not that huge."
     ]
    },
    {
     "cell_type": "code",
     "collapsed": false,
     "input": [
      "%time bcolz.eval('x ** 2 + sqrt(x)', cparams=bcolz.cparams(9), rootdir='out')"
     ],
     "language": "python",
     "metadata": {},
     "outputs": []
    },
    {
     "cell_type": "markdown",
     "metadata": {
      "slideshow": {
       "slide_type": "subslide"
      }
     },
     "source": [
      "Finally, we verify **system disk usage**."
     ]
    },
    {
     "cell_type": "code",
     "collapsed": false,
     "input": [
      "!du -hs ca\n",
      "# system disk usage"
     ],
     "language": "python",
     "metadata": {},
     "outputs": []
    },
    {
     "cell_type": "code",
     "collapsed": false,
     "input": [
      "!du -hs out"
     ],
     "language": "python",
     "metadata": {},
     "outputs": []
    },
    {
     "cell_type": "code",
     "collapsed": false,
     "input": [
      "!rm -r ca\n",
      "!rm -r out"
     ],
     "language": "python",
     "metadata": {},
     "outputs": []
    },
    {
     "cell_type": "heading",
     "level": 2,
     "metadata": {
      "slideshow": {
       "slide_type": "slide"
      }
     },
     "source": [
      "blaze &ndash; Data Blending and Analysis"
     ]
    },
    {
     "cell_type": "markdown",
     "metadata": {
      "slideshow": {
       "slide_type": "subslide"
      }
     },
     "source": [
      "``blaze`` allows Python users a familiar interface to **query data living in diverse data storage systems**.\n",
      "Cf. <a href=\"http://blaze.pydata.org/\" target=\"_blank\">http://blaze.pydata.org/</a>."
     ]
    },
    {
     "cell_type": "code",
     "collapsed": false,
     "input": [
      "import blaze as bz"
     ],
     "language": "python",
     "metadata": {},
     "outputs": []
    },
    {
     "cell_type": "heading",
     "level": 3,
     "metadata": {
      "slideshow": {
       "slide_type": "subslide"
      }
     },
     "source": [
      "Simple Example "
     ]
    },
    {
     "cell_type": "markdown",
     "metadata": {},
     "source": [
      "The first example constructs a ``blaze.Data`` object from native Python objects."
     ]
    },
    {
     "cell_type": "code",
     "collapsed": false,
     "input": [
      "t = bz.Data([('Henry', 'boy', 8),\n",
      "              ('Lilli', 'girl', 14)],\n",
      "            fields=['name', 'gender', 'age'])"
     ],
     "language": "python",
     "metadata": {},
     "outputs": []
    },
    {
     "cell_type": "code",
     "collapsed": false,
     "input": [
      "t"
     ],
     "language": "python",
     "metadata": {},
     "outputs": []
    },
    {
     "cell_type": "code",
     "collapsed": false,
     "input": [
      "t[t.age > 10]"
     ],
     "language": "python",
     "metadata": {},
     "outputs": []
    },
    {
     "cell_type": "heading",
     "level": 3,
     "metadata": {
      "slideshow": {
       "slide_type": "subslide"
      }
     },
     "source": [
      "Data from NumPy Array"
     ]
    },
    {
     "cell_type": "markdown",
     "metadata": {},
     "source": [
      "Let us read data from an **in-memory NumPy ``ndarray`` object**."
     ]
    },
    {
     "cell_type": "code",
     "collapsed": false,
     "input": [
      "import numpy as np"
     ],
     "language": "python",
     "metadata": {},
     "outputs": []
    },
    {
     "cell_type": "code",
     "collapsed": false,
     "input": [
      "a = np.random.standard_normal((100000, 5))\n",
      "  # 100,000 data rows, 5 columns"
     ],
     "language": "python",
     "metadata": {},
     "outputs": []
    },
    {
     "cell_type": "code",
     "collapsed": false,
     "input": [
      "df = bz.DataFrame(a, columns=['f0', 'f1', 'f2', 'f3', 'f4'])\n",
      "  # blaze DataFrame constructor"
     ],
     "language": "python",
     "metadata": {},
     "outputs": []
    },
    {
     "cell_type": "markdown",
     "metadata": {
      "slideshow": {
       "slide_type": "subslide"
      }
     },
     "source": [
      "A look at the **data structure**."
     ]
    },
    {
     "cell_type": "code",
     "collapsed": false,
     "input": [
      "df.head()"
     ],
     "language": "python",
     "metadata": {},
     "outputs": []
    },
    {
     "cell_type": "markdown",
     "metadata": {
      "slideshow": {
       "slide_type": "subslide"
      }
     },
     "source": [
      "Data itself is stored as **NumPy ``ndarray`` object**."
     ]
    },
    {
     "cell_type": "code",
     "collapsed": false,
     "input": [
      "df.values"
     ],
     "language": "python",
     "metadata": {},
     "outputs": []
    },
    {
     "cell_type": "heading",
     "level": 3,
     "metadata": {
      "slideshow": {
       "slide_type": "subslide"
      }
     },
     "source": [
      "Data from CSV File"
     ]
    },
    {
     "cell_type": "markdown",
     "metadata": {},
     "source": [
      "We generate first a **CSV file** using the random data from before."
     ]
    },
    {
     "cell_type": "code",
     "collapsed": false,
     "input": [
      "%time df.to_csv('data.csv', index=False)"
     ],
     "language": "python",
     "metadata": {},
     "outputs": []
    },
    {
     "cell_type": "markdown",
     "metadata": {
      "slideshow": {
       "slide_type": "subslide"
      }
     },
     "source": [
      "Let us **read the data** with ``blaze``. Actually, we **only generate a view**."
     ]
    },
    {
     "cell_type": "code",
     "collapsed": false,
     "input": [
      "%time csv = bz.CSV('data.csv')"
     ],
     "language": "python",
     "metadata": {},
     "outputs": []
    },
    {
     "cell_type": "code",
     "collapsed": false,
     "input": [
      "%time t1 = bz.Data(csv)"
     ],
     "language": "python",
     "metadata": {},
     "outputs": []
    },
    {
     "cell_type": "markdown",
     "metadata": {
      "slideshow": {
       "slide_type": "subslide"
      }
     },
     "source": [
      "Now, we can **work** with the data. Note, however, that iterating, slicing, etc. are **not** (yet) implemented. "
     ]
    },
    {
     "cell_type": "code",
     "collapsed": false,
     "input": [
      "%time t1.count()"
     ],
     "language": "python",
     "metadata": {},
     "outputs": []
    },
    {
     "cell_type": "markdown",
     "metadata": {
      "slideshow": {
       "slide_type": "subslide"
      }
     },
     "source": [
      "The **backend** is a **CSV object**. And a look at the **first 10 rows**."
     ]
    },
    {
     "cell_type": "code",
     "collapsed": false,
     "input": [
      "t1.data"
     ],
     "language": "python",
     "metadata": {},
     "outputs": []
    },
    {
     "cell_type": "code",
     "collapsed": false,
     "input": [
      "t1"
     ],
     "language": "python",
     "metadata": {},
     "outputs": []
    },
    {
     "cell_type": "heading",
     "level": 3,
     "metadata": {
      "slideshow": {
       "slide_type": "subslide"
      }
     },
     "source": [
      "Data from SQL"
     ]
    },
    {
     "cell_type": "markdown",
     "metadata": {},
     "source": [
      "We now generate a **SQLite3 table** with the dummy data from before."
     ]
    },
    {
     "cell_type": "code",
     "collapsed": false,
     "input": [
      "import sqlite3 as sq3"
     ],
     "language": "python",
     "metadata": {},
     "outputs": []
    },
    {
     "cell_type": "code",
     "collapsed": false,
     "input": [
      "con = sq3.connect('data.sql')\n",
      "try:\n",
      "    con.execute('DROP TABLE numbers')\n",
      "    # delete in case it exists\n",
      "except:\n",
      "    pass"
     ],
     "language": "python",
     "metadata": {},
     "outputs": []
    },
    {
     "cell_type": "markdown",
     "metadata": {
      "slideshow": {
       "slide_type": "subslide"
      }
     },
     "source": [
      "We **write the data** into an appropriate table."
     ]
    },
    {
     "cell_type": "code",
     "collapsed": false,
     "input": [
      "con.execute(\n",
      "    'CREATE TABLE numbers (f0 real, f1 real, f2 real, f3 real, f4 real)'\n",
      "    )"
     ],
     "language": "python",
     "metadata": {},
     "outputs": []
    },
    {
     "cell_type": "code",
     "collapsed": false,
     "input": [
      "%time con.executemany('INSERT INTO numbers VALUES (?, ?, ?, ?, ?)', a)"
     ],
     "language": "python",
     "metadata": {},
     "outputs": []
    },
    {
     "cell_type": "code",
     "collapsed": false,
     "input": [
      "con.commit()"
     ],
     "language": "python",
     "metadata": {},
     "outputs": []
    },
    {
     "cell_type": "code",
     "collapsed": false,
     "input": [
      "con.close()"
     ],
     "language": "python",
     "metadata": {},
     "outputs": []
    },
    {
     "cell_type": "markdown",
     "metadata": {
      "slideshow": {
       "slide_type": "subslide"
      }
     },
     "source": [
      "Now **reading the data** with ``blaze`` (i.e. just generating a view)."
     ]
    },
    {
     "cell_type": "code",
     "collapsed": false,
     "input": [
      "%time t2 = bz.Data('sqlite:///data.sql::numbers')"
     ],
     "language": "python",
     "metadata": {},
     "outputs": []
    },
    {
     "cell_type": "markdown",
     "metadata": {
      "slideshow": {
       "slide_type": "subslide"
      }
     },
     "source": [
      "The **schema** and **first 10 rows** again."
     ]
    },
    {
     "cell_type": "code",
     "collapsed": false,
     "input": [
      "t2.schema"
     ],
     "language": "python",
     "metadata": {
      "slideshow": {
       "slide_type": "-"
      }
     },
     "outputs": []
    },
    {
     "cell_type": "code",
     "collapsed": false,
     "input": [
      "t2"
     ],
     "language": "python",
     "metadata": {},
     "outputs": []
    },
    {
     "cell_type": "heading",
     "level": 3,
     "metadata": {
      "slideshow": {
       "slide_type": "subslide"
      }
     },
     "source": [
      "Working with the blaze Objects"
     ]
    },
    {
     "cell_type": "markdown",
     "metadata": {},
     "source": [
      "``blaze`` provides an **abstraction logic** for computations/queries."
     ]
    },
    {
     "cell_type": "code",
     "collapsed": false,
     "input": [
      "ts = bz.TableSymbol('ts',\n",
      "        '{f0: float64, f1: float64, f2: float64, f3: float64, f4: float64}')\n",
      "  # generic table description -- independent of the target data structure\n",
      "expr = ts[ts['f0'] + ts['f3'] > 2.5]['f1']\n",
      "  # generic expression -- independent of the target data structure"
     ],
     "language": "python",
     "metadata": {},
     "outputs": []
    },
    {
     "cell_type": "markdown",
     "metadata": {
      "slideshow": {
       "slide_type": "subslide"
      }
     },
     "source": [
      "The ``blaze`` compiler **specializes the generic objects** to different data structures."
     ]
    },
    {
     "cell_type": "code",
     "collapsed": false,
     "input": [
      "%time np.array(bz.compute(expr, a))  # NumPy ndarray object"
     ],
     "language": "python",
     "metadata": {},
     "outputs": []
    },
    {
     "cell_type": "code",
     "collapsed": false,
     "input": [
      "%time np.array(bz.compute(expr, df))  # DataFrame object"
     ],
     "language": "python",
     "metadata": {},
     "outputs": []
    },
    {
     "cell_type": "code",
     "collapsed": false,
     "input": [
      "%time np.array(bz.compute(expr, csv))  # CSV file representation"
     ],
     "language": "python",
     "metadata": {},
     "outputs": []
    },
    {
     "cell_type": "markdown",
     "metadata": {
      "slideshow": {
       "slide_type": "subslide"
      }
     },
     "source": [
      "In similar fashion, ``blaze`` allows **unified expression evaluations** for different backends (I)."
     ]
    },
    {
     "cell_type": "code",
     "collapsed": false,
     "input": [
      "%time t1[t1['f0'] + t1['f3'] > 2.5]['f1'].head()\n",
      "  # table representation 1\n",
      "  # from CSV"
     ],
     "language": "python",
     "metadata": {},
     "outputs": []
    },
    {
     "cell_type": "markdown",
     "metadata": {
      "slideshow": {
       "slide_type": "subslide"
      }
     },
     "source": [
      "In similar fashion, ``blaze`` allows **unified expression evaluations** for different backends (II)."
     ]
    },
    {
     "cell_type": "code",
     "collapsed": false,
     "input": [
      "%time t2[t2['f0'] + t2['f3'] > 2.5]['f1'].head()\n",
      "  # table representation 2\n",
      "  # from SQL database"
     ],
     "language": "python",
     "metadata": {},
     "outputs": []
    },
    {
     "cell_type": "markdown",
     "metadata": {
      "slideshow": {
       "slide_type": "subslide"
      }
     },
     "source": [
      "Typical **aggregational operations** work as well."
     ]
    },
    {
     "cell_type": "code",
     "collapsed": false,
     "input": [
      "%time t1.f0.sum()"
     ],
     "language": "python",
     "metadata": {},
     "outputs": []
    },
    {
     "cell_type": "code",
     "collapsed": false,
     "input": [
      "%time t2.f3.max()"
     ],
     "language": "python",
     "metadata": {},
     "outputs": []
    },
    {
     "cell_type": "heading",
     "level": 3,
     "metadata": {
      "slideshow": {
       "slide_type": "subslide"
      }
     },
     "source": [
      "Transforming Data Formats"
     ]
    },
    {
     "cell_type": "markdown",
     "metadata": {
      "slideshow": {
       "slide_type": "-"
      }
     },
     "source": [
      "If you work intensively with data sets, it might be beneficial to transform them once into **highly performant binary data formats (eg ``bcolz, HDF5``)**."
     ]
    },
    {
     "cell_type": "heading",
     "level": 4,
     "metadata": {
      "slideshow": {
       "slide_type": "subslide"
      }
     },
     "source": [
      "Using bcolz as Data Store"
     ]
    },
    {
     "cell_type": "code",
     "collapsed": false,
     "input": [
      "%time bz.into('data.bcolz', 'data.csv')\n",
      "  # natively done by blaze\n",
      "  # cparams=bcolz.cparams(9) could be added\n",
      "  # no effect here due to random floats"
     ],
     "language": "python",
     "metadata": {},
     "outputs": []
    },
    {
     "cell_type": "markdown",
     "metadata": {
      "slideshow": {
       "slide_type": "subslide"
      }
     },
     "source": [
      "We can now connect to the ``bcolz`` **disk-based ``ctable`` object**."
     ]
    },
    {
     "cell_type": "code",
     "collapsed": false,
     "input": [
      "import bcolz as bc"
     ],
     "language": "python",
     "metadata": {},
     "outputs": []
    },
    {
     "cell_type": "code",
     "collapsed": false,
     "input": [
      "b = bc.ctable(rootdir='data.bcolz') "
     ],
     "language": "python",
     "metadata": {},
     "outputs": []
    },
    {
     "cell_type": "markdown",
     "metadata": {
      "slideshow": {
       "slide_type": "subslide"
      }
     },
     "source": [
      "Now, the power of ``bcolz`` for **numerical computations** can be played out."
     ]
    },
    {
     "cell_type": "code",
     "collapsed": false,
     "input": [
      "%time nex = b.eval('sqrt(abs(f0)) + log(abs(f1))')"
     ],
     "language": "python",
     "metadata": {},
     "outputs": []
    },
    {
     "cell_type": "code",
     "collapsed": false,
     "input": [
      "nex"
     ],
     "language": "python",
     "metadata": {},
     "outputs": []
    },
    {
     "cell_type": "heading",
     "level": 4,
     "metadata": {
      "slideshow": {
       "slide_type": "subslide"
      }
     },
     "source": [
      "Using HDF5"
     ]
    },
    {
     "cell_type": "markdown",
     "metadata": {},
     "source": [
      "Similarly, we can use **``PyTables`` and ``HDF5``** as an efficient binary store."
     ]
    },
    {
     "cell_type": "code",
     "collapsed": false,
     "input": [
      "import pandas as pd"
     ],
     "language": "python",
     "metadata": {},
     "outputs": []
    },
    {
     "cell_type": "code",
     "collapsed": false,
     "input": [
      "%%time\n",
      "con = sq3.connect('data.sql')\n",
      "pd.HDFStore('data.h5')['sql'] = pd.read_sql('SELECT * FROM numbers', con)\n",
      "  # simultaneously reading whole SQL table and writing it to HDF5 store\n",
      "con.close()"
     ],
     "language": "python",
     "metadata": {},
     "outputs": []
    },
    {
     "cell_type": "markdown",
     "metadata": {
      "slideshow": {
       "slide_type": "subslide"
      }
     },
     "source": [
      "Now, data can be **efficiently** retrieved."
     ]
    },
    {
     "cell_type": "code",
     "collapsed": false,
     "input": [
      "%%time\n",
      "%matplotlib inline\n",
      "pd.HDFStore('data.h5')['sql'][::1000].cumsum().plot(figsize=(10, 5))\n",
      "  # simultaneously reading data from HDF5 store and plotting it"
     ],
     "language": "python",
     "metadata": {},
     "outputs": []
    },
    {
     "cell_type": "heading",
     "level": 3,
     "metadata": {
      "slideshow": {
       "slide_type": "subslide"
      }
     },
     "source": [
      "Cleaning Up"
     ]
    },
    {
     "cell_type": "code",
     "collapsed": false,
     "input": [
      "!du -h dat*"
     ],
     "language": "python",
     "metadata": {},
     "outputs": []
    },
    {
     "cell_type": "code",
     "collapsed": false,
     "input": [
      "!ls -n dat*.*"
     ],
     "language": "python",
     "metadata": {
      "slideshow": {
       "slide_type": "subslide"
      }
     },
     "outputs": []
    },
    {
     "cell_type": "code",
     "collapsed": false,
     "input": [
      "# cleaning up\n",
      "!rm -r dat*.*"
     ],
     "language": "python",
     "metadata": {},
     "outputs": []
    },
    {
     "cell_type": "heading",
     "level": 2,
     "metadata": {
      "slideshow": {
       "slide_type": "slide"
      }
     },
     "source": [
      "Conclusion"
     ]
    },
    {
     "cell_type": "markdown",
     "metadata": {},
     "source": [
      "**High performance (hardware-bound) I/O operations and highly efficient data blending and analytics are among Python's key strengths.**"
     ]
    },
    {
     "cell_type": "markdown",
     "metadata": {
      "slideshow": {
       "slide_type": "slide"
      }
     },
     "source": [
      "<img src=\"http://hilpisch.com/tpq_logo.png\" alt=\"The Python Quants\" width=\"35%\" align=\"right\" border=\"0\"><br>\n",
      "\n",
      "<a href=\"http://tpq.io\" target=\"_blank\">http://tpq.io</a> | <a href=\"http://twitter.com/dyjh\" target=\"_blank\">@dyjh</a> | <a href=\"mailto:team@pqp.io\">team@tpq.io</a>\n",
      "\n",
      "**Quant Platform** |\n",
      "<a href=\"http://quant-platform.com\">http://quant-platform.com</a>\n",
      "\n",
      "**datapark.io** |\n",
      "<a href=\"http://datapark.io\">http://datapark.io</a>\n",
      "\n",
      "**Python for Finance** |\n",
      "<a href=\"http://python-for-finance.com\" target=\"_blank\">Python for Finance @ O'Reilly</a>\n",
      "\n",
      "**Derivatives Analytics with Python** |\n",
      "<a href=\"http://derivatives-analytics-with-python.com\" target=\"_blank\">Derivatives Analytics @ Wiley Finance</a>"
     ]
    }
   ],
   "metadata": {}
  }
 ]
}